{
 "cells": [
  {
   "attachments": {},
   "cell_type": "markdown",
   "metadata": {},
   "source": [
    "## 3D quantitative shape analysis on form, roundness, and compactness with μCT\n",
    "### Author: [Budi Zhao](https://people.ucd.ie/budi.zhao), [Jianfeng Wang](http://bccw.cityu.edu.hk/jefwang/)\n"
   ]
  },
  {
   "cell_type": "code",
   "execution_count": 1,
   "metadata": {},
   "outputs": [],
   "source": [
    "a = 1   # major dimension\n",
    "b = 1   # intermediate dimension\n",
    "c = 1   # minor dimension"
   ]
  },
  {
   "cell_type": "code",
   "execution_count": 2,
   "metadata": {},
   "outputs": [],
   "source": [
    "EI = b/a    # Elongation index\n",
    "FI = c/b    # Flatness index"
   ]
  },
  {
   "cell_type": "code",
   "execution_count": null,
   "metadata": {},
   "outputs": [],
   "source": [
    "import math\n",
    "\n",
    "V = 4/3 * math.pi * a * b * c    # Volume\n",
    "A = 4 * math.pi * a * b    # Surface area\n",
    "S = math.pow((36 * math.pi * (V**2)) / A, 1/3)    # Sphericity\n",
    "V_ch = 3 * math.pi * (a * b + b * c + a * c)    # Convex hull volume\n",
    "C = V / V_ch    # Compactness"
   ]
  },
  {
   "cell_type": "code",
   "execution_count": 20,
   "metadata": {},
   "outputs": [],
   "source": [
    "import vtk\n",
    "\n",
    "# Create a sphere\n",
    "# sphere = vtk.vtkSphereSource()\n",
    "# sphere.SetRadius(1)\n",
    "# sphere.SetThetaResolution(2)\n",
    "# sphere.SetPhiResolution(2)\n",
    "# sphere.Update()\n",
    "\n",
    "pd = vtk.vtkXMLPolyDataReader()\n",
    "pd.SetFileName(\"/home/dinesh/M.Tech Data/Chess/ensemble/2672873.vtp\")\n",
    "pd.Update()\n",
    "\n",
    "# triangulate the sphere\n",
    "triangulator = vtk.vtkTriangleFilter()\n",
    "triangulator.SetInputConnection(pd.GetOutputPort())\n",
    "triangulator.Update()\n",
    "\n",
    "# compute the shape features\n",
    "mp = vtk.vtkMassProperties()\n",
    "mp.SetInputConnection(triangulator.GetOutputPort())\n",
    "mp.Update()"
   ]
  },
  {
   "cell_type": "code",
   "execution_count": 21,
   "metadata": {},
   "outputs": [
    {
     "name": "stdout",
     "output_type": "stream",
     "text": [
      "Volume:  6321.963178043253\n",
      "Volume (Projected):  6321.963178043215\n",
      "Volume (X):  6321.963178043216\n",
      "Volume (Y):  6321.963178043386\n",
      "Volume (Z):  6321.963178043212\n",
      "Kx weighting factor:  0.39364406779661015\n",
      "Ky weighting factor:  0.22733050847457628\n",
      "Kz weighting factor:  0.37902542372881354\n",
      "Surface area:  3124.073562637838\n",
      "Surface area (Min cell):  0.38658966771867515\n",
      "Surface area (Max cell):  9.513148795220223\n",
      "Normalized shape index:  1.3745733182633573\n"
     ]
    }
   ],
   "source": [
    "# print volume\n",
    "print(\"Volume: \", mp.GetVolume())\n",
    "print(\"Volume (Projected): \", mp.GetVolumeProjected())\n",
    "print(\"Volume (X): \", mp.GetVolumeX())\n",
    "print(\"Volume (Y): \", mp.GetVolumeY())\n",
    "print(\"Volume (Z): \", mp.GetVolumeZ())\n",
    "print(\"Kx weighting factor: \", mp.GetKx())\n",
    "print(\"Ky weighting factor: \", mp.GetKy())\n",
    "print(\"Kz weighting factor: \", mp.GetKz())\n",
    "print(\"Surface area: \", mp.GetSurfaceArea())\n",
    "print(\"Surface area (Min cell): \", mp.GetMinCellArea())\n",
    "print(\"Surface area (Max cell): \", mp.GetMaxCellArea())\n",
    "print(\"Normalized shape index: \", mp.GetNormalizedShapeIndex())"
   ]
  },
  {
   "cell_type": "code",
   "execution_count": null,
   "metadata": {},
   "outputs": [],
   "source": []
  }
 ],
 "metadata": {
  "kernelspec": {
   "display_name": "Python 3",
   "language": "python",
   "name": "python3"
  },
  "language_info": {
   "codemirror_mode": {
    "name": "ipython",
    "version": 3
   },
   "file_extension": ".py",
   "mimetype": "text/x-python",
   "name": "python",
   "nbconvert_exporter": "python",
   "pygments_lexer": "ipython3",
   "version": "3.8.10"
  },
  "orig_nbformat": 4
 },
 "nbformat": 4,
 "nbformat_minor": 2
}
