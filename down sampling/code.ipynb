{
 "cells": [
  {
   "cell_type": "code",
   "execution_count": 1,
   "metadata": {},
   "outputs": [],
   "source": [
    "import numpy as np\n",
    "from skimage.measure import block_reduce"
   ]
  },
  {
   "cell_type": "code",
   "execution_count": 30,
   "metadata": {},
   "outputs": [
    {
     "data": {
      "text/plain": [
       "array([[[ 0,  1],\n",
       "        [ 2,  3],\n",
       "        [ 4,  5]],\n",
       "\n",
       "       [[ 6,  7],\n",
       "        [ 8,  9],\n",
       "        [10, 11]],\n",
       "\n",
       "       [[12, 13],\n",
       "        [14, 15],\n",
       "        [16, 17]],\n",
       "\n",
       "       [[18, 19],\n",
       "        [20, 21],\n",
       "        [22, 23]]])"
      ]
     },
     "execution_count": 30,
     "metadata": {},
     "output_type": "execute_result"
    }
   ],
   "source": [
    "x = 4\n",
    "y = 3\n",
    "z = 2\n",
    "arr = np.arange(x*y*z).reshape(x,y,z)\n",
    "arr"
   ]
  },
  {
   "attachments": {},
   "cell_type": "markdown",
   "metadata": {},
   "source": [
    "## Block reduce"
   ]
  },
  {
   "cell_type": "code",
   "execution_count": 34,
   "metadata": {},
   "outputs": [
    {
     "data": {
      "text/plain": [
       "(array([[[ 4.5 ],\n",
       "         [ 3.75]],\n",
       " \n",
       "        [[16.5 ],\n",
       "         [ 9.75]]]),\n",
       " (2, 2, 1))"
      ]
     },
     "execution_count": 34,
     "metadata": {},
     "output_type": "execute_result"
    }
   ],
   "source": [
    "down_arr = block_reduce(arr, block_size=(2, 2, 2), func=np.mean)\n",
    "down_arr, down_arr.shape"
   ]
  },
  {
   "cell_type": "code",
   "execution_count": 32,
   "metadata": {},
   "outputs": [
    {
     "data": {
      "text/plain": [
       "array([[2, 2, 0],\n",
       "       [2, 2, 1],\n",
       "       [3, 2, 0],\n",
       "       [3, 2, 1]])"
      ]
     },
     "execution_count": 32,
     "metadata": {},
     "output_type": "execute_result"
    }
   ],
   "source": [
    "block_size = (2, 2, 2)\n",
    "downsampled_block_indices = (1, 1, 0)\n",
    "\n",
    "block_indices = []\n",
    "# initialize block_indices - [(0,0,0), ...., (block_size[0]-1, block_size[1]-1, block_size[2]-1)]\n",
    "for i in range(block_size[0]):\n",
    "    for j in range(block_size[1]):\n",
    "        for k in range(block_size[2]):\n",
    "            block_indices.append((i, j, k))\n",
    "\n",
    "# get the indices of the block to be downsampled in the original array\n",
    "block_indices = np.array(block_indices)\n",
    "block_indices += np.array(downsampled_block_indices) * np.array(block_size)\n",
    "\n",
    "# validate that the block indices are within the original array\n",
    "# else remove the indices that are out of bounds\n",
    "block_indices = block_indices[block_indices[:, 0] < arr.shape[0]]\n",
    "block_indices = block_indices[block_indices[:, 1] < arr.shape[1]]\n",
    "block_indices = block_indices[block_indices[:, 2] < arr.shape[2]]\n",
    "\n",
    "block_indices"
   ]
  },
  {
   "cell_type": "code",
   "execution_count": 33,
   "metadata": {},
   "outputs": [
    {
     "name": "stdout",
     "output_type": "stream",
     "text": [
      "[16 17 22 23]\n",
      "19.5\n",
      "9.75\n"
     ]
    }
   ],
   "source": [
    "print(arr[block_indices[:, 0], block_indices[:, 1], block_indices[:, 2]])\n",
    "print(np.mean(arr[block_indices[:, 0], block_indices[:, 1], block_indices[:, 2]]))\n",
    "print(down_arr[downsampled_block_indices])"
   ]
  },
  {
   "cell_type": "code",
   "execution_count": 50,
   "metadata": {},
   "outputs": [],
   "source": [
    "def downsample_indices(arr, block_size, input_coords, downsampled_image):\n",
    "    downsampled_shape = downsampled_image.shape\n",
    "    indices = []\n",
    "    for i in range(block_size[0] * input_coords[0], block_size[0] * (input_coords[0] + 1)):\n",
    "        for j in range(block_size[1] * input_coords[1], block_size[1] * (input_coords[1] + 1)):\n",
    "            for k in range(block_size[2] * input_coords[2], block_size[2] * (input_coords[2] + 1)):\n",
    "                if i < arr.shape[0] and j < arr.shape[1] and k < arr.shape[2]:\n",
    "                    indices.append((i, j, k))\n",
    "    return np.array(indices)"
   ]
  },
  {
   "cell_type": "code",
   "execution_count": 55,
   "metadata": {},
   "outputs": [
    {
     "data": {
      "text/plain": [
       "array([[2, 2, 0],\n",
       "       [2, 2, 1],\n",
       "       [3, 2, 0],\n",
       "       [3, 2, 1]])"
      ]
     },
     "execution_count": 55,
     "metadata": {},
     "output_type": "execute_result"
    }
   ],
   "source": [
    "ia = downsample_indices(arr, (2,2,2), (1, 1, 0), down_arr)\n",
    "ia\n",
    "# print(arr[ia[:, 0], ia[:, 1], ia[:, 2]])\n",
    "# print(np.sum(arr[ia[:, 0], ia[:, 1], ia[:, 2]])/(block_size[0]*block_size[1]*block_size[2]))\n",
    "# print(down_arr[1, 1, 0])"
   ]
  },
  {
   "cell_type": "code",
   "execution_count": 56,
   "metadata": {},
   "outputs": [],
   "source": [
    "def downsample_indices(arr, block_size, input_coords):\n",
    "    block_row_indices = np.arange(block_size[0] * input_coords[0], block_size[0] * (input_coords[0] + 1))\n",
    "    block_col_indices = np.arange(block_size[1] * input_coords[1], block_size[1] * (input_coords[1] + 1))\n",
    "    block_depth_indices = np.arange(block_size[2] * input_coords[2], block_size[2] * (input_coords[2] + 1))\n",
    "    \n",
    "    block_row_indices = block_row_indices[block_row_indices < arr.shape[0]]\n",
    "    block_col_indices = block_col_indices[block_col_indices < arr.shape[1]]\n",
    "    block_depth_indices = block_depth_indices[block_depth_indices < arr.shape[2]]\n",
    "    \n",
    "    row_grid, col_grid, depth_grid = np.meshgrid(block_row_indices, block_col_indices, block_depth_indices)\n",
    "    \n",
    "    return np.column_stack((row_grid.ravel(), col_grid.ravel(), depth_grid.ravel()))\n"
   ]
  },
  {
   "cell_type": "code",
   "execution_count": 59,
   "metadata": {},
   "outputs": [
    {
     "data": {
      "text/plain": [
       "array([[2, 2, 0],\n",
       "       [2, 2, 1],\n",
       "       [3, 2, 0],\n",
       "       [3, 2, 1]])"
      ]
     },
     "execution_count": 59,
     "metadata": {},
     "output_type": "execute_result"
    }
   ],
   "source": [
    "downsample_indices(arr, (2,2,2), (1, 1, 0))"
   ]
  },
  {
   "cell_type": "code",
   "execution_count": null,
   "metadata": {},
   "outputs": [],
   "source": []
  }
 ],
 "metadata": {
  "kernelspec": {
   "display_name": "Python 3",
   "language": "python",
   "name": "python3"
  },
  "language_info": {
   "codemirror_mode": {
    "name": "ipython",
    "version": 3
   },
   "file_extension": ".py",
   "mimetype": "text/x-python",
   "name": "python",
   "nbconvert_exporter": "python",
   "pygments_lexer": "ipython3",
   "version": "3.10.9"
  },
  "orig_nbformat": 4,
  "vscode": {
   "interpreter": {
    "hash": "aee8b7b246df8f9039afb4144a1f6fd8d2ca17a180786b69acc140d282b71a49"
   }
  }
 },
 "nbformat": 4,
 "nbformat_minor": 2
}
